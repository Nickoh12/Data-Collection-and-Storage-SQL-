{
 "cells": [
  {
   "cell_type": "markdown",
   "metadata": {},
   "source": [
    "Having prepared the data in SQL, I will now make a short analysis of Chicago's most popular taxi companies in November 2017 and the most frequently visited destinations in the same month. Finally, I will test whether the travel duration between the Loop and the O'Hare Airport changes when it rains. "
   ]
  },
  {
   "cell_type": "markdown",
   "metadata": {},
   "source": [
    "## Study the General Information"
   ]
  },
  {
   "cell_type": "code",
   "execution_count": 163,
   "metadata": {},
   "outputs": [
    {
     "name": "stdout",
     "output_type": "stream",
     "text": [
      "<class 'pandas.core.frame.DataFrame'>\n",
      "RangeIndex: 64 entries, 0 to 63\n",
      "Data columns (total 2 columns):\n",
      "company_name    64 non-null object\n",
      "trips_amount    64 non-null int64\n",
      "dtypes: int64(1), object(1)\n",
      "memory usage: 1.1+ KB\n"
     ]
    },
    {
     "data": {
      "text/html": [
       "<div>\n",
       "<style scoped>\n",
       "    .dataframe tbody tr th:only-of-type {\n",
       "        vertical-align: middle;\n",
       "    }\n",
       "\n",
       "    .dataframe tbody tr th {\n",
       "        vertical-align: top;\n",
       "    }\n",
       "\n",
       "    .dataframe thead th {\n",
       "        text-align: right;\n",
       "    }\n",
       "</style>\n",
       "<table border=\"1\" class=\"dataframe\">\n",
       "  <thead>\n",
       "    <tr style=\"text-align: right;\">\n",
       "      <th></th>\n",
       "      <th>company_name</th>\n",
       "      <th>trips_amount</th>\n",
       "    </tr>\n",
       "  </thead>\n",
       "  <tbody>\n",
       "    <tr>\n",
       "      <td>0</td>\n",
       "      <td>Flash Cab</td>\n",
       "      <td>19558</td>\n",
       "    </tr>\n",
       "    <tr>\n",
       "      <td>1</td>\n",
       "      <td>Taxi Affiliation Services</td>\n",
       "      <td>11422</td>\n",
       "    </tr>\n",
       "    <tr>\n",
       "      <td>2</td>\n",
       "      <td>Medallion Leasing</td>\n",
       "      <td>10367</td>\n",
       "    </tr>\n",
       "    <tr>\n",
       "      <td>3</td>\n",
       "      <td>Yellow Cab</td>\n",
       "      <td>9888</td>\n",
       "    </tr>\n",
       "    <tr>\n",
       "      <td>4</td>\n",
       "      <td>Taxi Affiliation Service Yellow</td>\n",
       "      <td>9299</td>\n",
       "    </tr>\n",
       "  </tbody>\n",
       "</table>\n",
       "</div>"
      ],
      "text/plain": [
       "                      company_name  trips_amount\n",
       "0                        Flash Cab         19558\n",
       "1        Taxi Affiliation Services         11422\n",
       "2                Medallion Leasing         10367\n",
       "3                       Yellow Cab          9888\n",
       "4  Taxi Affiliation Service Yellow          9299"
      ]
     },
     "execution_count": 163,
     "metadata": {},
     "output_type": "execute_result"
    }
   ],
   "source": [
    "import pandas as pd \n",
    "import seaborn as sns \n",
    "import numpy as np \n",
    "import scipy.stats as st \n",
    "import math as mt \n",
    "import matplotlib.pyplot as plt  \n",
    "\n",
    "sql1= pd.read_csv('/datasets/project_sql_result_01.csv')\n",
    "sql2= pd.read_csv('/datasets/project_sql_result_04.csv')\n",
    "\n",
    "sql1.info()\n",
    "sql1.head()"
   ]
  },
  {
   "cell_type": "code",
   "execution_count": 164,
   "metadata": {},
   "outputs": [
    {
     "name": "stdout",
     "output_type": "stream",
     "text": [
      "<class 'pandas.core.frame.DataFrame'>\n",
      "RangeIndex: 94 entries, 0 to 93\n",
      "Data columns (total 2 columns):\n",
      "dropoff_location_name    94 non-null object\n",
      "average_trips            94 non-null float64\n",
      "dtypes: float64(1), object(1)\n",
      "memory usage: 1.6+ KB\n"
     ]
    },
    {
     "data": {
      "text/html": [
       "<div>\n",
       "<style scoped>\n",
       "    .dataframe tbody tr th:only-of-type {\n",
       "        vertical-align: middle;\n",
       "    }\n",
       "\n",
       "    .dataframe tbody tr th {\n",
       "        vertical-align: top;\n",
       "    }\n",
       "\n",
       "    .dataframe thead th {\n",
       "        text-align: right;\n",
       "    }\n",
       "</style>\n",
       "<table border=\"1\" class=\"dataframe\">\n",
       "  <thead>\n",
       "    <tr style=\"text-align: right;\">\n",
       "      <th></th>\n",
       "      <th>dropoff_location_name</th>\n",
       "      <th>average_trips</th>\n",
       "    </tr>\n",
       "  </thead>\n",
       "  <tbody>\n",
       "    <tr>\n",
       "      <td>0</td>\n",
       "      <td>Loop</td>\n",
       "      <td>10727.466667</td>\n",
       "    </tr>\n",
       "    <tr>\n",
       "      <td>1</td>\n",
       "      <td>River North</td>\n",
       "      <td>9523.666667</td>\n",
       "    </tr>\n",
       "    <tr>\n",
       "      <td>2</td>\n",
       "      <td>Streeterville</td>\n",
       "      <td>6664.666667</td>\n",
       "    </tr>\n",
       "    <tr>\n",
       "      <td>3</td>\n",
       "      <td>West Loop</td>\n",
       "      <td>5163.666667</td>\n",
       "    </tr>\n",
       "    <tr>\n",
       "      <td>4</td>\n",
       "      <td>O'Hare</td>\n",
       "      <td>2546.900000</td>\n",
       "    </tr>\n",
       "  </tbody>\n",
       "</table>\n",
       "</div>"
      ],
      "text/plain": [
       "  dropoff_location_name  average_trips\n",
       "0                  Loop   10727.466667\n",
       "1           River North    9523.666667\n",
       "2         Streeterville    6664.666667\n",
       "3             West Loop    5163.666667\n",
       "4                O'Hare    2546.900000"
      ]
     },
     "execution_count": 164,
     "metadata": {},
     "output_type": "execute_result"
    }
   ],
   "source": [
    "sql2.info()\n",
    "sql2.head()"
   ]
  },
  {
   "cell_type": "markdown",
   "metadata": {},
   "source": [
    "Looks like for these two tables all data is there as needed.  Let's now move on to the first part of the analysis. "
   ]
  },
  {
   "cell_type": "markdown",
   "metadata": {},
   "source": [
    "## Exploratory Data Analysis "
   ]
  },
  {
   "cell_type": "code",
   "execution_count": 9,
   "metadata": {},
   "outputs": [
    {
     "data": {
      "text/html": [
       "<div>\n",
       "<style scoped>\n",
       "    .dataframe tbody tr th:only-of-type {\n",
       "        vertical-align: middle;\n",
       "    }\n",
       "\n",
       "    .dataframe tbody tr th {\n",
       "        vertical-align: top;\n",
       "    }\n",
       "\n",
       "    .dataframe thead th {\n",
       "        text-align: right;\n",
       "    }\n",
       "</style>\n",
       "<table border=\"1\" class=\"dataframe\">\n",
       "  <thead>\n",
       "    <tr style=\"text-align: right;\">\n",
       "      <th></th>\n",
       "      <th>dropoff_location_name</th>\n",
       "      <th>average_trips</th>\n",
       "    </tr>\n",
       "  </thead>\n",
       "  <tbody>\n",
       "    <tr>\n",
       "      <td>0</td>\n",
       "      <td>Loop</td>\n",
       "      <td>10727.466667</td>\n",
       "    </tr>\n",
       "    <tr>\n",
       "      <td>1</td>\n",
       "      <td>River North</td>\n",
       "      <td>9523.666667</td>\n",
       "    </tr>\n",
       "    <tr>\n",
       "      <td>2</td>\n",
       "      <td>Streeterville</td>\n",
       "      <td>6664.666667</td>\n",
       "    </tr>\n",
       "    <tr>\n",
       "      <td>3</td>\n",
       "      <td>West Loop</td>\n",
       "      <td>5163.666667</td>\n",
       "    </tr>\n",
       "    <tr>\n",
       "      <td>4</td>\n",
       "      <td>O'Hare</td>\n",
       "      <td>2546.900000</td>\n",
       "    </tr>\n",
       "    <tr>\n",
       "      <td>5</td>\n",
       "      <td>Lake View</td>\n",
       "      <td>2420.966667</td>\n",
       "    </tr>\n",
       "    <tr>\n",
       "      <td>6</td>\n",
       "      <td>Grant Park</td>\n",
       "      <td>2068.533333</td>\n",
       "    </tr>\n",
       "    <tr>\n",
       "      <td>7</td>\n",
       "      <td>Museum Campus</td>\n",
       "      <td>1510.000000</td>\n",
       "    </tr>\n",
       "    <tr>\n",
       "      <td>8</td>\n",
       "      <td>Gold Coast</td>\n",
       "      <td>1364.233333</td>\n",
       "    </tr>\n",
       "    <tr>\n",
       "      <td>9</td>\n",
       "      <td>Sheffield &amp; DePaul</td>\n",
       "      <td>1259.766667</td>\n",
       "    </tr>\n",
       "  </tbody>\n",
       "</table>\n",
       "</div>"
      ],
      "text/plain": [
       "  dropoff_location_name  average_trips\n",
       "0                  Loop   10727.466667\n",
       "1           River North    9523.666667\n",
       "2         Streeterville    6664.666667\n",
       "3             West Loop    5163.666667\n",
       "4                O'Hare    2546.900000\n",
       "5             Lake View    2420.966667\n",
       "6            Grant Park    2068.533333\n",
       "7         Museum Campus    1510.000000\n",
       "8            Gold Coast    1364.233333\n",
       "9    Sheffield & DePaul    1259.766667"
      ]
     },
     "execution_count": 9,
     "metadata": {},
     "output_type": "execute_result"
    }
   ],
   "source": [
    "sql2.sort_values('average_trips', ascending= False).head(10)"
   ]
  },
  {
   "cell_type": "code",
   "execution_count": 42,
   "metadata": {},
   "outputs": [
    {
     "data": {
      "image/png": "[encoded data removed]",
      "text/plain": [
       "<Figure size 1296x648 with 1 Axes>"
      ]
     },
     "metadata": {
      "needs_background": "light"
     },
     "output_type": "display_data"
    }
   ],
   "source": [
    "sort_sql1= sql1.sort_values('trips_amount', ascending= False).head(10)\n",
    "fig, ax= plt.subplots(figsize=(18,9))\n",
    "sns.barplot(data= sort_sql1, x= 'company_name', y= 'trips_amount', color= 'brown').set_title('Top 10 Taxi Companies in November 2017', size= 20)\n",
    "plt.xlabel('Company Name', size= 14)\n",
    "plt.ylabel('Amount of Trips', size= 14)\n",
    "ax.set_xticklabels(ax.get_xticklabels(), rotation=90)\n",
    "plt.show()"
   ]
  },
  {
   "cell_type": "markdown",
   "metadata": {},
   "source": [
    "The most popular companies are Flash Cab, Taxi Affiliation Services and Medaillon Leasing. It is remarkable that Flash Cab leads by a very large margin with more approx. 8000 trips more than the second-ranked company. This might be due to cheaper prices and a larger vehicle fleet. \n",
    "\n",
    "The least popular companies are Sun Taxi, Star North Management LLC and Blue Ribbon Taxi Association Inc. "
   ]
  },
  {
   "cell_type": "code",
   "execution_count": 46,
   "metadata": {},
   "outputs": [
    {
     "data": {
      "image/png": "[encoded data removed]",
      "text/plain": [
       "<Figure size 1296x648 with 1 Axes>"
      ]
     },
     "metadata": {
      "needs_background": "light"
     },
     "output_type": "display_data"
    }
   ],
   "source": [
    "sort_sql2= sql2.sort_values('average_trips', ascending= False).head(10)\n",
    "fig, ax= plt.subplots(figsize=(18,9))\n",
    "sns.barplot(data= sort_sql2, x= 'dropoff_location_name', y= 'average_trips', color= 'brown').set_title('Top 10 Destinations in November 2017', size= 20)\n",
    "plt.xlabel('Dropoff Location', size= 14)\n",
    "plt.ylabel('Amount of Trips', size= 14)\n",
    "ax.set_xticklabels(ax.get_xticklabels(), rotation=90)\n",
    "plt.show()"
   ]
  },
  {
   "cell_type": "markdown",
   "metadata": {},
   "source": [
    "The most frequently occuring dropoff locations are Loop, River North and Streeterville.\n",
    "The three least visited destinations are Museum Campus, Gold Coast and Sheffield & DePaul. \n",
    "\n",
    "Reasons for these patterns may be that the frequently visited locations are more densely populated than the lesser chosen locations. An alternative explanation could be that the locations differ in their accessibility with public transport. "
   ]
  },
  {
   "cell_type": "markdown",
   "metadata": {},
   "source": [
    "## Test Hypotheses "
   ]
  },
  {
   "cell_type": "markdown",
   "metadata": {},
   "source": [
    "This part tests the following Hypothesis: \n",
    "\n",
    "H1: \"The average duration of rides from the Loop to O'Hare International Airport differs between rainy Saturdays and non-rainy Saturdays.\" \n",
    "\n",
    "H0: \"The average duration of rides from the Loop to O'Hare International Airport does not differ between rainy Saturdays and non-rainy Saturdays.\" \n",
    "\n",
    "The mean durations of rainy saturdays and non-rainy saturdays will be compared and the difference will be tested for significance by means of a statistical test. \n",
    "\n",
    "To select the appropriate test, I'll test the distributions of both samples for normality and for the equality of their variances.  "
   ]
  },
  {
   "cell_type": "code",
   "execution_count": 67,
   "metadata": {},
   "outputs": [
    {
     "name": "stdout",
     "output_type": "stream",
     "text": [
      "<class 'pandas.core.frame.DataFrame'>\n",
      "RangeIndex: 1068 entries, 0 to 1067\n",
      "Data columns (total 3 columns):\n",
      "start_ts              1068 non-null object\n",
      "weather_conditions    1068 non-null object\n",
      "duration_seconds      1068 non-null float64\n",
      "dtypes: float64(1), object(2)\n",
      "memory usage: 25.2+ KB\n"
     ]
    }
   ],
   "source": [
    "sql3= pd.read_csv('/datasets/project_sql_result_07.csv')\n",
    "sql3.info()"
   ]
  },
  {
   "cell_type": "code",
   "execution_count": 146,
   "metadata": {},
   "outputs": [],
   "source": [
    "bad= sql3.query('weather_conditions == \"Bad\"')['duration_seconds']\n",
    "num= bad.index.values\n",
    "good= sql3.drop(num, axis= 0)['duration_seconds']"
   ]
  },
  {
   "cell_type": "code",
   "execution_count": 153,
   "metadata": {},
   "outputs": [
    {
     "name": "stdout",
     "output_type": "stream",
     "text": [
      "The rainy days data is not normally distributed\n"
     ]
    }
   ],
   "source": [
    "import scipy.stats as st \n",
    "st,p = st.shapiro(bad)\n",
    "alpha = 0.05 \n",
    "\n",
    "if p < alpha: \n",
    "    print('The rainy days data is not normally distributed')\n",
    "else:\n",
    "    print('The rainy days data is normally distributed')"
   ]
  },
  {
   "cell_type": "code",
   "execution_count": 152,
   "metadata": {},
   "outputs": [
    {
     "name": "stdout",
     "output_type": "stream",
     "text": [
      "The good days data is not normally distributed\n"
     ]
    }
   ],
   "source": [
    "import scipy.stats as st \n",
    "st,p = st.shapiro(good)\n",
    "if p < alpha: \n",
    "    print('The good days data is not normally distributed')\n",
    "else:\n",
    "    print('The good days data is normally distributed')"
   ]
  },
  {
   "cell_type": "markdown",
   "metadata": {},
   "source": [
    "Since the data of both samples is not normally distributed, we might skip looking for equal variances and directly use the rank-based Mann-Whitney-U test. \n",
    "\n",
    "However, since both samples are larger than 50, it might still be valid to use a regular t-test, given that the variances of both samples are equal. To keep this option open, I will run a levene test first. "
   ]
  },
  {
   "cell_type": "code",
   "execution_count": 162,
   "metadata": {},
   "outputs": [
    {
     "name": "stdout",
     "output_type": "stream",
     "text": [
      "The variances are equal\n"
     ]
    }
   ],
   "source": [
    "import scipy.stats as st \n",
    "st,p = st.levene(bad, good)\n",
    "\n",
    "if p < alpha: \n",
    "    print('The variances are unequal')\n",
    "else:\n",
    "    print('The variances are equal')"
   ]
  },
  {
   "cell_type": "markdown",
   "metadata": {},
   "source": [
    "As the Levene test shows, the variances of both tests are equal. Thus a regular ttest might be sufficient to get reliable results. \n",
    "I decided to use both, Mann-Whitney-U and t-test to test the hypothesis. "
   ]
  },
  {
   "cell_type": "code",
   "execution_count": 159,
   "metadata": {},
   "outputs": [
    {
     "name": "stdout",
     "output_type": "stream",
     "text": [
      "Mean duration on rainy days 2427.2055555555557\n",
      "Mean duration on good days 1999.6756756756756\n",
      "Median duration on rainy days 2540.0\n",
      "Median duration on good days 1800.0\n",
      "p-value: 3.358269442796729e-14\n",
      "we reject the null hypothesis\n"
     ]
    }
   ],
   "source": [
    "print('Mean duration on rainy days',bad.mean())\n",
    "print('Mean duration on good days',good.mean())\n",
    "print('Median duration on rainy days',bad.median())\n",
    "print('Median duration on good days',good.median() )\n",
    "\n",
    "results= st.mannwhitneyu(bad,good)\n",
    "print('p-value:', results.pvalue)\n",
    "if results.pvalue < alpha:\n",
    "    print('we reject the null hypothesis')\n",
    "else: \n",
    "    print('We accept the null hypothesis')"
   ]
  },
  {
   "cell_type": "code",
   "execution_count": 161,
   "metadata": {},
   "outputs": [
    {
     "name": "stdout",
     "output_type": "stream",
     "text": [
      "Mean duration on rainy days 2427.2055555555557\n",
      "Mean duration on good days 1999.6756756756756\n",
      "Median duration on rainy days 2540.0\n",
      "Median duration on good days 1800.0\n",
      "p-value: 6.517970327099473e-12\n",
      "we reject the null hypothesis\n"
     ]
    }
   ],
   "source": [
    "import scipy.stats as st \n",
    "print('Mean duration on rainy days',bad.mean())\n",
    "print('Mean duration on good days',good.mean())\n",
    "print('Median duration on rainy days',bad.median())\n",
    "print('Median duration on good days',good.median() )\n",
    "\n",
    "results= st.ttest_ind(bad,good)\n",
    "print('p-value:', results.pvalue)\n",
    "if results.pvalue < alpha:\n",
    "    print('we reject the null hypothesis')\n",
    "else: \n",
    "    print('We accept the null hypothesis')"
   ]
  },
  {
   "cell_type": "markdown",
   "metadata": {},
   "source": [
    "Both Mann-Whitney and T-Test show that the means between sunny and rainy days are signifcantly different. \n",
    "\n",
    "Looking at the results, we can conclude that in terms of mean rainy rides take roughly 7 mins longer than sunny rides (mean difference/60). In terms of median the difference is even much larger with 12 mins (median difference/60). "
   ]
  },
  {
   "cell_type": "markdown",
   "metadata": {},
   "source": [
    "## Conclusion "
   ]
  },
  {
   "cell_type": "markdown",
   "metadata": {},
   "source": [
    "This short enquiry into the Chicago taxi industry has yielded the following results:\n",
    "\n",
    "**On 15th and 16th November 2017, the most popular taxi companies in Chicago were:** \n",
    "    1. Flash Cab\n",
    "    2. Taxi Affiliation Services \n",
    "    3. Medaillon Leasing. \n",
    "    \n",
    "**During the same time period the least popular taxi companies in Chicago were:** \n",
    "    1. Sun Taxi\n",
    "    2. Star North Management LLC \n",
    "    3. Blue Ribbon Taxi Association Inc. \n",
    "\n",
    "**The most frequently visited neighborhoods in November 2017 were:**\n",
    "    1. Loop\n",
    "    2. River North\n",
    "    3. Streeterville \n",
    "  \n",
    "\n",
    "**The least frequently visited neighborhoods in November 2017 were:**\n",
    "    1. Museum Campus\n",
    "    2. Gold Coast \n",
    "    3. Sheffield & DePaul\n",
    "\n",
    "**On average, travelling from the Loop to O'Hare Airport takes longer on rainy and stormy days (p<0.05):** \n",
    "    - Mean duration sunny days (in minutes): approx. 33 mins\n",
    "    - Mean duration rainy days (in minutes): approx. 40 mins\n",
    "    - Median duration sunny days (in minutes): approx. 42 mins\n",
    "    - Mean duration rainy days (in minutes): approx. 30 mins\n",
    "    "
   ]
  }
 ],
 "metadata": {
  "kernelspec": {
   "display_name": "Python 3",
   "language": "python",
   "name": "python3"
  },
  "language_info": {
   "codemirror_mode": {
    "name": "ipython",
    "version": 3
   },
   "file_extension": ".py",
   "mimetype": "text/x-python",
   "name": "python",
   "nbconvert_exporter": "python",
   "pygments_lexer": "ipython3",
   "version": "3.8.5"
  },
  "toc": {
   "base_numbering": 1,
   "nav_menu": {},
   "number_sections": true,
   "sideBar": true,
   "skip_h1_title": true,
   "title_cell": "Table of Contents",
   "title_sidebar": "Contents",
   "toc_cell": false,
   "toc_position": {},
   "toc_section_display": true,
   "toc_window_display": false
  }
 },
 "nbformat": 4,
 "nbformat_minor": 2
}
